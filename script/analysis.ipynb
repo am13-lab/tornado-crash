{
 "cells": [
  {
   "cell_type": "code",
   "execution_count": 9,
   "metadata": {},
   "outputs": [],
   "source": [
    "import pandas as pd"
   ]
  },
  {
   "cell_type": "code",
   "execution_count": 10,
   "metadata": {},
   "outputs": [],
   "source": [
    "df_tornado_withdraw = pd.read_csv(\"../data/tornado_deposit.csv\")[:90818]\n",
    "df_tornado_deposit = pd.read_csv(\"../data/tornado_withdraw.csv\")[:90818]"
   ]
  },
  {
   "cell_type": "code",
   "execution_count": 11,
   "metadata": {},
   "outputs": [
    {
     "name": "stdout",
     "output_type": "stream",
     "text": [
      "Overall distinct address number: 53886\n"
     ]
    }
   ],
   "source": [
    "df_total = pd.concat([df_tornado_deposit, df_tornado_withdraw], ignore_index=True)\n",
    "df_tornado_address = set(df_total['address'].unique().tolist())\n",
    "print(\"Overall distinct address number: {}\".format(len(df_tornado_address)))"
   ]
  },
  {
   "cell_type": "code",
   "execution_count": 18,
   "metadata": {},
   "outputs": [
    {
     "name": "stdout",
     "output_type": "stream",
     "text": [
      "181636\n"
     ]
    }
   ],
   "source": [
    "print(len(df_total[\"txhash\"]))"
   ]
  },
  {
   "cell_type": "code",
   "execution_count": 12,
   "metadata": {},
   "outputs": [
    {
     "data": {
      "text/html": [
       "<div>\n",
       "<style scoped>\n",
       "    .dataframe tbody tr th:only-of-type {\n",
       "        vertical-align: middle;\n",
       "    }\n",
       "\n",
       "    .dataframe tbody tr th {\n",
       "        vertical-align: top;\n",
       "    }\n",
       "\n",
       "    .dataframe thead th {\n",
       "        text-align: right;\n",
       "    }\n",
       "</style>\n",
       "<table border=\"1\" class=\"dataframe\">\n",
       "  <thead>\n",
       "    <tr style=\"text-align: right;\">\n",
       "      <th></th>\n",
       "      <th>txhash</th>\n",
       "      <th>addr</th>\n",
       "      <th>clusterID</th>\n",
       "      <th>reason</th>\n",
       "    </tr>\n",
       "  </thead>\n",
       "  <tbody>\n",
       "    <tr>\n",
       "      <th>0</th>\n",
       "      <td>0x14281b8f9287ca34c5019a40ca0fc8672225dd75e26e...</td>\n",
       "      <td>0x42f4aed51d679684df6e44666bf2fa5840769161</td>\n",
       "      <td>1533</td>\n",
       "      <td>exact match</td>\n",
       "    </tr>\n",
       "    <tr>\n",
       "      <th>1</th>\n",
       "      <td>0xdc96407fb9e4eec13aa6ea96c741a81e02ead56b2560...</td>\n",
       "      <td>0x870ce4cbe75814672c0f1e62d3d19474dbca2edc</td>\n",
       "      <td>2456</td>\n",
       "      <td>exact match</td>\n",
       "    </tr>\n",
       "    <tr>\n",
       "      <th>2</th>\n",
       "      <td>0x24fc47adde3475d923422e954f5e8db3cf769ba04367...</td>\n",
       "      <td>0xaf301de836c81deb8dff9dc22745e23c476155b2</td>\n",
       "      <td>1478</td>\n",
       "      <td>exact match</td>\n",
       "    </tr>\n",
       "    <tr>\n",
       "      <th>3</th>\n",
       "      <td>0x6e6890a19ec8fdb43d9e47736256a8249065af7e22b7...</td>\n",
       "      <td>0x16e54b35d789832440ab47ae765e6a8098280676</td>\n",
       "      <td>648</td>\n",
       "      <td>exact match</td>\n",
       "    </tr>\n",
       "    <tr>\n",
       "      <th>4</th>\n",
       "      <td>0x13ca5719e863542bcc48d5bf3d951452761aec547b6f...</td>\n",
       "      <td>0x2647a18deb7153deb82a4488f66180f7688b97e2</td>\n",
       "      <td>2966</td>\n",
       "      <td>exact match</td>\n",
       "    </tr>\n",
       "  </tbody>\n",
       "</table>\n",
       "</div>"
      ],
      "text/plain": [
       "                                              txhash  \\\n",
       "0  0x14281b8f9287ca34c5019a40ca0fc8672225dd75e26e...   \n",
       "1  0xdc96407fb9e4eec13aa6ea96c741a81e02ead56b2560...   \n",
       "2  0x24fc47adde3475d923422e954f5e8db3cf769ba04367...   \n",
       "3  0x6e6890a19ec8fdb43d9e47736256a8249065af7e22b7...   \n",
       "4  0x13ca5719e863542bcc48d5bf3d951452761aec547b6f...   \n",
       "\n",
       "                                         addr  clusterID       reason  \n",
       "0  0x42f4aed51d679684df6e44666bf2fa5840769161       1533  exact match  \n",
       "1  0x870ce4cbe75814672c0f1e62d3d19474dbca2edc       2456  exact match  \n",
       "2  0xaf301de836c81deb8dff9dc22745e23c476155b2       1478  exact match  \n",
       "3  0x16e54b35d789832440ab47ae765e6a8098280676        648  exact match  \n",
       "4  0x2647a18deb7153deb82a4488f66180f7688b97e2       2966  exact match  "
      ]
     },
     "execution_count": 12,
     "metadata": {},
     "output_type": "execute_result"
    }
   ],
   "source": [
    "h_exact_match = pd.read_csv(\"../proceed/exact_match.csv\")\n",
    "h_exact_match[\"reason\"] = \"exact match\"\n",
    "h_gas_price = pd.read_csv(\"../proceed/gas_price.csv\")\n",
    "h_gas_price[\"reason\"] = \"gas price\"\n",
    "h_linked_tx = pd.read_csv(\"../proceed/linked_tx.csv\")\n",
    "h_linked_tx[\"reason\"] = \"linked tx\"\n",
    "h_same_num_tx = pd.read_csv(\"../proceed/same_num_tx.csv\")\n",
    "h_same_num_tx[\"reason\"] = \"same num tx\"\n",
    "h_exact_match.head()"
   ]
  },
  {
   "cell_type": "code",
   "execution_count": 13,
   "metadata": {},
   "outputs": [
    {
     "name": "stdout",
     "output_type": "stream",
     "text": [
      "2660\n",
      "1215\n",
      "6065\n",
      "2321\n"
     ]
    }
   ],
   "source": [
    "print(len(h_exact_match[\"addr\"].unique().tolist()))\n",
    "print(len(h_gas_price[\"addr\"].unique().tolist()))\n",
    "print(len(h_linked_tx[\"addr\"].unique().tolist()))\n",
    "print(len(h_same_num_tx[\"addr\"].unique().tolist()))"
   ]
  },
  {
   "cell_type": "code",
   "execution_count": 14,
   "metadata": {},
   "outputs": [
    {
     "name": "stdout",
     "output_type": "stream",
     "text": [
      "Overall exploit distinct address number: 10363\n"
     ]
    }
   ],
   "source": [
    "df_exploit = pd.concat([h_exact_match, h_gas_price, h_linked_tx, h_same_num_tx], ignore_index=True)\n",
    "df_exploit = df_exploit.drop_duplicates(subset=['txhash','addr'], ignore_index=True)\n",
    "exploit_address = set(df_exploit['addr'].unique().tolist())\n",
    "print(\"Overall exploit distinct address number: {}\".format(len(exploit_address)))\n"
   ]
  },
  {
   "cell_type": "code",
   "execution_count": 20,
   "metadata": {},
   "outputs": [
    {
     "name": "stdout",
     "output_type": "stream",
     "text": [
      "66889\n"
     ]
    }
   ],
   "source": [
    "print(len(df_exploit[\"txhash\"].unique().tolist()))"
   ]
  },
  {
   "cell_type": "code",
   "execution_count": 15,
   "metadata": {},
   "outputs": [],
   "source": [
    "def is_exploit(addr:set) -> bool:\n",
    "    return addr <= exploit_address\n",
    "\n",
    "def participate_tornado(addr: set) -> bool:\n",
    "    return addr <= df_tornado_address"
   ]
  },
  {
   "cell_type": "code",
   "execution_count": 16,
   "metadata": {},
   "outputs": [],
   "source": [
    "pairs_df = pd.read_csv(\"../data/all_ens_pairs.csv\")\n",
    "pairs_df = pairs_df.loc[pairs_df['address'].isin(set(df_total[\"address\"].unique().tolist()))]\n",
    "ground_truth = pairs_df.groupby(\"name\").filter(lambda x: x['address'].count()>1)\n",
    "ground_truth = ground_truth.groupby('name')[\"address\"].agg(set).reset_index()\n",
    "ground_truth[\"exploit\"] = ground_truth[\"address\"].apply(is_exploit)\n",
    "ground_truth[\"is_tornado\"] = ground_truth[\"address\"].apply(participate_tornado)\n"
   ]
  },
  {
   "cell_type": "code",
   "execution_count": 17,
   "metadata": {},
   "outputs": [
    {
     "data": {
      "text/plain": [
       "(20, 4)"
      ]
     },
     "execution_count": 17,
     "metadata": {},
     "output_type": "execute_result"
    }
   ],
   "source": [
    "len(ground_truth[ground_truth[\"is_tornado\"]==True]), len(ground_truth[ground_truth[\"exploit\"]==True])"
   ]
  }
 ],
 "metadata": {
  "kernelspec": {
   "display_name": "Python 3.10.4 ('deanonymize-geSISJr_')",
   "language": "python",
   "name": "python3"
  },
  "language_info": {
   "codemirror_mode": {
    "name": "ipython",
    "version": 3
   },
   "file_extension": ".py",
   "mimetype": "text/x-python",
   "name": "python",
   "nbconvert_exporter": "python",
   "pygments_lexer": "ipython3",
   "version": "3.10.4"
  },
  "orig_nbformat": 4,
  "vscode": {
   "interpreter": {
    "hash": "f8592923473b68e96300211a2b7de684a6782850f310fc28a339bb6b93fdb4c8"
   }
  }
 },
 "nbformat": 4,
 "nbformat_minor": 2
}
